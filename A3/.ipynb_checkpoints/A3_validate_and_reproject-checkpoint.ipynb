{
 "cells": [
  {
   "cell_type": "markdown",
   "id": "1c1082d1",
   "metadata": {},
   "source": [
    "# A3 – Validating and Reprojecting Raster Data using rasterio\n",
    "\n",
    "In our final project, users will upload their own geospatial raster data. To ensure compatibility with the pre-trained CNN models from TorchGeo, we need all input rasters to use the same coordinate reference system (CRS), such as EPSG:4326 (WGS84). \n",
    "\n",
    "In this notebook, I demonstrate how to:\n",
    "1. Open a raster using `rasterio`\n",
    "2. Check its CRS\n",
    "3. Reproject it to the desired CRS if necessary\n",
    "4. Save the result\n",
    "\n",
    "This can be reused in the final project as a preprocessing step.\n",
    "\n",
    "**Documentation used:**\n",
    "- [`rasterio.open`](https://rasterio.readthedocs.io/en/latest/api/rasterio.html#rasterio.open)\n",
    "- [`rasterio.warp.reproject`](https://rasterio.readthedocs.io/en/latest/api/rasterio.warp.html#rasterio.warp.reproject)\n",
    "- [`rasterio.warp.calculate_default_transform`](https://rasterio.readthedocs.io/en/latest/api/rasterio.warp.html#rasterio.warp.calculate_default_transform)\n"
   ]
  },
  {
   "cell_type": "code",
   "execution_count": null,
   "id": "1f7cc422",
   "metadata": {},
   "outputs": [],
   "source": [
    "# Import necessary libraries\n",
    "import rasterio\n",
    "from rasterio.warp import calculate_default_transform, reproject, Resampling\n",
    "from rasterio.enums import Resampling\n",
    "from rasterio import Affine\n",
    "from pathlib import Path\n"
   ]
  },
  {
   "cell_type": "code",
   "execution_count": null,
   "id": "5072312f",
   "metadata": {},
   "outputs": [],
   "source": [
    "# Function to validate CRS and reproject if necessary\n",
    "def reproject_to_target_crs(input_path, output_path, target_crs=\"EPSG:4326\"):\n",
    "    with rasterio.open(input_path) as src:\n",
    "        if src.crs == target_crs:\n",
    "            return \"No reprojection needed.\"\n",
    "\n",
    "        transform, width, height = calculate_default_transform(\n",
    "            src.crs, target_crs, src.width, src.height, *src.bounds\n",
    "        )\n",
    "\n",
    "        output_metadata = src.meta.copy()\n",
    "        output_metadata.update({\n",
    "            'crs': target_crs,\n",
    "            'transform': transform,\n",
    "            'width': width,\n",
    "            'height': height\n",
    "        })\n",
    "\n",
    "        with rasterio.open(output_path, 'w', **output_metadata) as dst:\n",
    "            for band_index in range(1, src.count + 1):\n",
    "                reproject(\n",
    "                    source=rasterio.band(src, band_index),\n",
    "                    destination=rasterio.band(dst, band_index),\n",
    "                    src_transform=src.transform,\n",
    "                    src_crs=src.crs,\n",
    "                    dst_transform=transform,\n",
    "                    dst_crs=target_crs,\n",
    "                    resampling=Resampling.nearest\n",
    "                )\n",
    "        return f\"Reprojected raster saved to: {output_path}\"\n"
   ]
  },
  {
   "cell_type": "code",
   "execution_count": null,
   "id": "0b5aa285",
   "metadata": {},
   "outputs": [],
   "source": [
    "# Run reprojection\n",
    "input_file = \"data/example_input.tif\"\n",
    "output_file = \"data/example_reprojected.tif\"\n",
    "reproject_to_target_crs(input_file, output_file)\n"
   ]
  }
 ],
 "metadata": {},
 "nbformat": 4,
 "nbformat_minor": 5
}
